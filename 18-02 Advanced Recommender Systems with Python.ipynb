{
 "cells": [
  {
   "cell_type": "markdown",
   "metadata": {},
   "source": [
    "\n",
    "# Advanced Recommender Systems with Python\n",
    "\n",
    "Welcome to the code notebook for creating Advanced Recommender Systems with Python. This is an optional lecture notebook for you to check out. Currently there is no video for this lecture because of the level of mathematics used and the heavy use of SciPy here.\n",
    "\n",
    "Recommendation Systems usually rely on larger data sets and specifically need to be organized in a particular fashion. Because of this, we won't have a project to go along with this topic, instead we will have a more intensive walkthrough process on creating a recommendation system with Python with the same Movie Lens Data Set.\n",
    "\n",
    "*Note: The actual mathematics behind recommender systems is pretty heavy in Linear Algebra.*\n",
    "___"
   ]
  },
  {
   "cell_type": "markdown",
   "metadata": {},
   "source": [
    "## Methods Used\n",
    "\n",
    "Two most common types of recommender systems are **Content-Based** and **Collaborative Filtering (CF)**. \n",
    "\n",
    "* Collaborative filtering produces recommendations based on the knowledge of users’ attitude to items, that is it uses the \"wisdom of the crowd\" to recommend items. \n",
    "* Content-based recommender systems focus on the attributes of the items and give you recommendations based on the similarity between them.\n",
    "\n",
    "## Collaborative Filtering\n",
    "\n",
    "In general, Collaborative filtering (CF) is more commonly used than content-based systems because it usually gives better results and is relatively easy to understand (from an overall implementation perspective). The algorithm has the ability to do feature learning on its own, which means that it can start to learn for itself what features to use. \n",
    "\n",
    "CF can be divided into **Memory-Based Collaborative Filtering** and **Model-Based Collaborative filtering**. \n",
    "\n",
    "In this tutorial, we will implement Model-Based CF by using singular value decomposition (SVD) and Memory-Based CF by computing cosine similarity. \n",
    "\n",
    "## The Data\n",
    "\n",
    "We will use famous MovieLens dataset, which is one of the most common datasets used when implementing and testing recommender engines. It contains 100k movie ratings from 943 users and a selection of 1682 movies.\n",
    "\n",
    "You can download the dataset [here](http://files.grouplens.org/datasets/movielens/ml-100k.zip) or just use the u.data file that is already included in this folder.\n",
    "\n",
    "____\n",
    "## Getting Started\n",
    "\n",
    "Let's import some libraries we will need:"
   ]
  },
  {
   "cell_type": "code",
   "execution_count": 1,
   "metadata": {
    "collapsed": true,
    "jupyter": {
     "outputs_hidden": true
    }
   },
   "outputs": [],
   "source": [
    "import numpy as np\n",
    "import pandas as pd"
   ]
  },
  {
   "cell_type": "markdown",
   "metadata": {},
   "source": [
    "We can then read in the **u.data** file, which contains the full dataset. You can read a brief description of the dataset [here](http://files.grouplens.org/datasets/movielens/ml-100k-README.txt).\n",
    "\n",
    "Note how we specify the separator argument for a Tab separated file."
   ]
  },
  {
   "cell_type": "code",
   "execution_count": 2,
   "metadata": {
    "collapsed": false,
    "jupyter": {
     "outputs_hidden": false
    }
   },
   "outputs": [],
   "source": [
    "column_names = ['user_id', 'item_id', 'rating', 'timestamp']\n",
    "df = pd.read_csv('data/u.data', sep='\\t', names=column_names)"
   ]
  },
  {
   "cell_type": "markdown",
   "metadata": {},
   "source": [
    "Let's take a quick look at the data."
   ]
  },
  {
   "cell_type": "code",
   "execution_count": 3,
   "metadata": {
    "collapsed": false,
    "jupyter": {
     "outputs_hidden": false
    }
   },
   "outputs": [
    {
     "output_type": "execute_result",
     "data": {
      "text/plain": "   user_id  item_id  rating  timestamp\n0        0       50       5  881250949\n1        0      172       5  881250949\n2        0      133       1  881250949\n3      196      242       3  881250949\n4      186      302       3  891717742\n5       22      377       1  878887116\n6      244       51       2  880606923\n7      166      346       1  886397596\n8      298      474       4  884182806\n9      115      265       2  881171488",
      "text/html": "<div>\n<style scoped>\n    .dataframe tbody tr th:only-of-type {\n        vertical-align: middle;\n    }\n\n    .dataframe tbody tr th {\n        vertical-align: top;\n    }\n\n    .dataframe thead th {\n        text-align: right;\n    }\n</style>\n<table border=\"1\" class=\"dataframe\">\n  <thead>\n    <tr style=\"text-align: right;\">\n      <th></th>\n      <th>user_id</th>\n      <th>item_id</th>\n      <th>rating</th>\n      <th>timestamp</th>\n    </tr>\n  </thead>\n  <tbody>\n    <tr>\n      <th>0</th>\n      <td>0</td>\n      <td>50</td>\n      <td>5</td>\n      <td>881250949</td>\n    </tr>\n    <tr>\n      <th>1</th>\n      <td>0</td>\n      <td>172</td>\n      <td>5</td>\n      <td>881250949</td>\n    </tr>\n    <tr>\n      <th>2</th>\n      <td>0</td>\n      <td>133</td>\n      <td>1</td>\n      <td>881250949</td>\n    </tr>\n    <tr>\n      <th>3</th>\n      <td>196</td>\n      <td>242</td>\n      <td>3</td>\n      <td>881250949</td>\n    </tr>\n    <tr>\n      <th>4</th>\n      <td>186</td>\n      <td>302</td>\n      <td>3</td>\n      <td>891717742</td>\n    </tr>\n    <tr>\n      <th>5</th>\n      <td>22</td>\n      <td>377</td>\n      <td>1</td>\n      <td>878887116</td>\n    </tr>\n    <tr>\n      <th>6</th>\n      <td>244</td>\n      <td>51</td>\n      <td>2</td>\n      <td>880606923</td>\n    </tr>\n    <tr>\n      <th>7</th>\n      <td>166</td>\n      <td>346</td>\n      <td>1</td>\n      <td>886397596</td>\n    </tr>\n    <tr>\n      <th>8</th>\n      <td>298</td>\n      <td>474</td>\n      <td>4</td>\n      <td>884182806</td>\n    </tr>\n    <tr>\n      <th>9</th>\n      <td>115</td>\n      <td>265</td>\n      <td>2</td>\n      <td>881171488</td>\n    </tr>\n  </tbody>\n</table>\n</div>"
     },
     "metadata": {},
     "execution_count": 3
    }
   ],
   "source": [
    "df.head(10)"
   ]
  },
  {
   "cell_type": "markdown",
   "metadata": {},
   "source": [
    "Note how we only have the item_id, not the movie name. We can use the Movie_ID_Titles csv file to grab the movie names and merge it with this dataframe:"
   ]
  },
  {
   "cell_type": "code",
   "execution_count": 4,
   "metadata": {
    "collapsed": false,
    "jupyter": {
     "outputs_hidden": false
    }
   },
   "outputs": [
    {
     "output_type": "execute_result",
     "data": {
      "text/plain": "   item_id              title\n0        1   Toy Story (1995)\n1        2   GoldenEye (1995)\n2        3  Four Rooms (1995)\n3        4  Get Shorty (1995)\n4        5     Copycat (1995)",
      "text/html": "<div>\n<style scoped>\n    .dataframe tbody tr th:only-of-type {\n        vertical-align: middle;\n    }\n\n    .dataframe tbody tr th {\n        vertical-align: top;\n    }\n\n    .dataframe thead th {\n        text-align: right;\n    }\n</style>\n<table border=\"1\" class=\"dataframe\">\n  <thead>\n    <tr style=\"text-align: right;\">\n      <th></th>\n      <th>item_id</th>\n      <th>title</th>\n    </tr>\n  </thead>\n  <tbody>\n    <tr>\n      <th>0</th>\n      <td>1</td>\n      <td>Toy Story (1995)</td>\n    </tr>\n    <tr>\n      <th>1</th>\n      <td>2</td>\n      <td>GoldenEye (1995)</td>\n    </tr>\n    <tr>\n      <th>2</th>\n      <td>3</td>\n      <td>Four Rooms (1995)</td>\n    </tr>\n    <tr>\n      <th>3</th>\n      <td>4</td>\n      <td>Get Shorty (1995)</td>\n    </tr>\n    <tr>\n      <th>4</th>\n      <td>5</td>\n      <td>Copycat (1995)</td>\n    </tr>\n  </tbody>\n</table>\n</div>"
     },
     "metadata": {},
     "execution_count": 4
    }
   ],
   "source": [
    "movie_titles = pd.read_csv(\"data/Movie_Id_Titles\")\n",
    "movie_titles.head()"
   ]
  },
  {
   "cell_type": "markdown",
   "metadata": {},
   "source": [
    "Then merge the dataframes:"
   ]
  },
  {
   "cell_type": "code",
   "execution_count": 5,
   "metadata": {
    "collapsed": false,
    "jupyter": {
     "outputs_hidden": false
    }
   },
   "outputs": [
    {
     "output_type": "execute_result",
     "data": {
      "text/plain": "   user_id  item_id  rating  timestamp             title\n0        0       50       5  881250949  Star Wars (1977)\n1      290       50       5  880473582  Star Wars (1977)\n2       79       50       4  891271545  Star Wars (1977)\n3        2       50       5  888552084  Star Wars (1977)\n4        8       50       5  879362124  Star Wars (1977)",
      "text/html": "<div>\n<style scoped>\n    .dataframe tbody tr th:only-of-type {\n        vertical-align: middle;\n    }\n\n    .dataframe tbody tr th {\n        vertical-align: top;\n    }\n\n    .dataframe thead th {\n        text-align: right;\n    }\n</style>\n<table border=\"1\" class=\"dataframe\">\n  <thead>\n    <tr style=\"text-align: right;\">\n      <th></th>\n      <th>user_id</th>\n      <th>item_id</th>\n      <th>rating</th>\n      <th>timestamp</th>\n      <th>title</th>\n    </tr>\n  </thead>\n  <tbody>\n    <tr>\n      <th>0</th>\n      <td>0</td>\n      <td>50</td>\n      <td>5</td>\n      <td>881250949</td>\n      <td>Star Wars (1977)</td>\n    </tr>\n    <tr>\n      <th>1</th>\n      <td>290</td>\n      <td>50</td>\n      <td>5</td>\n      <td>880473582</td>\n      <td>Star Wars (1977)</td>\n    </tr>\n    <tr>\n      <th>2</th>\n      <td>79</td>\n      <td>50</td>\n      <td>4</td>\n      <td>891271545</td>\n      <td>Star Wars (1977)</td>\n    </tr>\n    <tr>\n      <th>3</th>\n      <td>2</td>\n      <td>50</td>\n      <td>5</td>\n      <td>888552084</td>\n      <td>Star Wars (1977)</td>\n    </tr>\n    <tr>\n      <th>4</th>\n      <td>8</td>\n      <td>50</td>\n      <td>5</td>\n      <td>879362124</td>\n      <td>Star Wars (1977)</td>\n    </tr>\n  </tbody>\n</table>\n</div>"
     },
     "metadata": {},
     "execution_count": 5
    }
   ],
   "source": [
    "df = pd.merge(df,movie_titles,on='item_id')\n",
    "df.head()"
   ]
  },
  {
   "cell_type": "markdown",
   "metadata": {},
   "source": [
    "Now let's take a quick look at the number of unique users and movies."
   ]
  },
  {
   "cell_type": "code",
   "execution_count": 6,
   "metadata": {
    "collapsed": false,
    "jupyter": {
     "outputs_hidden": false
    }
   },
   "outputs": [
    {
     "output_type": "stream",
     "name": "stdout",
     "text": "Num. of Users: 944\nNum of Movies: 1682\n"
    }
   ],
   "source": [
    "n_users = df.user_id.nunique()\n",
    "n_items = df.item_id.nunique()\n",
    "\n",
    "print('Num. of Users: '+ str(n_users))\n",
    "print('Num of Movies: '+str(n_items))"
   ]
  },
  {
   "cell_type": "markdown",
   "metadata": {},
   "source": [
    "## Train Test Split\n",
    "\n",
    "Recommendation Systems by their very nature are very difficult to evaluate, but we will still show you how to evaluate them in this tutorial. In order to do this, we'll split our data into two sets. However, we won't do our classic X_train,X_test,y_train,y_test split. Instead we can actually just segement the data into two sets of data:"
   ]
  },
  {
   "cell_type": "code",
   "execution_count": 12,
   "metadata": {
    "collapsed": false,
    "jupyter": {
     "outputs_hidden": false
    }
   },
   "outputs": [],
   "source": [
    "from sklearn.model_selection import train_test_split\n",
    "train_data, test_data = train_test_split(df, test_size=0.25)"
   ]
  },
  {
   "cell_type": "markdown",
   "metadata": {},
   "source": [
    "## Memory-Based Collaborative Filtering\n",
    "\n",
    "Memory-Based Collaborative Filtering approaches can be divided into two main sections: **user-item filtering** and **item-item filtering**. \n",
    "\n",
    "A *user-item filtering* will take a particular user, find users that are similar to that user based on similarity of ratings, and recommend items that those similar users liked. \n",
    "\n",
    "In contrast, *item-item filtering* will take an item, find users who liked that item, and find other items that those users or similar users also liked. It takes items and outputs other items as recommendations. \n",
    "\n",
    "* *Item-Item Collaborative Filtering*: “Users who liked this item also liked …”\n",
    "* *User-Item Collaborative Filtering*: “Users who are similar to you also liked …”"
   ]
  },
  {
   "cell_type": "markdown",
   "metadata": {},
   "source": [
    "In both cases, you create a user-item matrix which built from the entire dataset.\n",
    "\n",
    "Since we have split the data into testing and training we will need to create two ``[943 x 1682]`` matrices (all users by all movies). \n",
    "\n",
    "The training matrix contains 75% of the ratings and the testing matrix contains 25% of the ratings.  "
   ]
  },
  {
   "cell_type": "markdown",
   "metadata": {},
   "source": [
    "Example of user-item matrix:\n",
    "<img class=\"aligncenter size-thumbnail img-responsive\" src=\"http://s33.postimg.org/ay0ty90fj/BLOG_CCA_8.png\" alt=\"blog8\"/>"
   ]
  },
  {
   "cell_type": "markdown",
   "metadata": {},
   "source": [
    "After you have built the user-item matrix you calculate the similarity and create a similarity matrix. \n",
    "\n",
    "The similarity values between items in *Item-Item Collaborative Filtering* are measured by observing all the users who have rated both items.  \n",
    "\n",
    "<img class=\"aligncenter size-thumbnail img-responsive\" style=\"max-width:100%; width: 50%; max-width: none\" src=\"http://s33.postimg.org/i522ma83z/BLOG_CCA_10.png\"/>"
   ]
  },
  {
   "cell_type": "markdown",
   "metadata": {},
   "source": [
    "For *User-Item Collaborative Filtering* the similarity values between users are measured by observing all the items that are rated by both users.\n",
    "\n",
    "<img class=\"aligncenter size-thumbnail img-responsive\" style=\"max-width:100%; width: 50%; max-width: none\" src=\"http://s33.postimg.org/mlh3z3z4f/BLOG_CCA_11.png\"/>"
   ]
  },
  {
   "cell_type": "markdown",
   "metadata": {},
   "source": [
    "A distance metric commonly used in recommender systems is *cosine similarity*, where the ratings are seen as vectors in ``n``-dimensional space and the similarity is calculated based on the angle between these vectors. \n",
    "Cosine similiarity for users *a* and *m* can be calculated using the formula below, where you take dot product of  the user vector *$u_k$* and the user vector *$u_a$* and divide it by multiplication of the Euclidean lengths of the vectors.\n",
    "<img class=\"aligncenter size-thumbnail img-responsive\" src=\"https://latex.codecogs.com/gif.latex?s_u^{cos}(u_k,u_a)=\\frac{u_k&space;\\cdot&space;u_a&space;}{&space;\\left&space;\\|&space;u_k&space;\\right&space;\\|&space;\\left&space;\\|&space;u_a&space;\\right&space;\\|&space;}&space;=\\frac{\\sum&space;x_{k,m}x_{a,m}}{\\sqrt{\\sum&space;x_{k,m}^2\\sum&space;x_{a,m}^2}}\"/>\n",
    "\n",
    "To calculate similarity between items *m* and *b* you use the formula:\n",
    "\n",
    "<img class=\"aligncenter size-thumbnail img-responsive\" src=\"https://latex.codecogs.com/gif.latex?s_u^{cos}(i_m,i_b)=\\frac{i_m&space;\\cdot&space;i_b&space;}{&space;\\left&space;\\|&space;i_m&space;\\right&space;\\|&space;\\left&space;\\|&space;i_b&space;\\right&space;\\|&space;}&space;=\\frac{\\sum&space;x_{a,m}x_{a,b}}{\\sqrt{\\sum&space;x_{a,m}^2\\sum&space;x_{a,b}^2}}\n",
    "\"/>\n",
    "\n",
    "Your first step will be to create the user-item matrix. Since you have both testing and training data you need to create two matrices.  "
   ]
  },
  {
   "cell_type": "code",
   "execution_count": 18,
   "metadata": {
    "collapsed": false,
    "jupyter": {
     "outputs_hidden": false
    },
    "tags": [
     "outputPrepend",
     "outputPrepend",
     "outputPrepend",
     "outputPrepend",
     "outputPrepend",
     "outputPrepend",
     "outputPrepend",
     "outputPrepend",
     "outputPrepend",
     "outputPrepend",
     "outputPrepend",
     "outputPrepend",
     "outputPrepend",
     "outputPrepend",
     "outputPrepend",
     "outputPrepend",
     "outputPrepend",
     "outputPrepend",
     "outputPrepend",
     "outputPrepend",
     "outputPrepend",
     "outputPrepend",
     "outputPrepend",
     "outputPrepend"
    ]
   },
   "outputs": [
    {
     "output_type": "stream",
     "name": "stdout",
     "text": "id=501, item_id=952, rating=4, timestamp=883348114, title='Blue in the Face (1995)')\nPandas(Index=3879, user_id=566, item_id=392, rating=4, timestamp=881650519, title='Man Without a Face, The (1993)')\nPandas(Index=87667, user_id=528, item_id=31, rating=5, timestamp=886101761, title='Crimson Tide (1995)')\nPandas(Index=96066, user_id=312, item_id=850, rating=5, timestamp=891698764, title='Perfect Candidate, A (1996)')\nPandas(Index=42304, user_id=894, item_id=333, rating=4, timestamp=879896756, title='Game, The (1997)')\nPandas(Index=79964, user_id=417, item_id=1044, rating=3, timestamp=879648939, title='Paper, The (1994)')\nPandas(Index=13933, user_id=95, item_id=366, rating=4, timestamp=880572628, title='Dangerous Minds (1995)')\nPandas(Index=5228, user_id=308, item_id=95, rating=4, timestamp=887737130, title='Aladdin (1992)')\nPandas(Index=28216, user_id=632, item_id=483, rating=5, timestamp=879459738, title='Casablanca (1942)')\nPandas(Index=15655, user_id=234, item_id=498, rating=5, timestamp=892078699, title='African Queen, The (1951)')\nPandas(Index=55300, user_id=592, item_id=900, rating=4, timestamp=887257094, title='Kundun (1997)')\nPandas(Index=99050, user_id=655, item_id=909, rating=3, timestamp=890611503, title='Dangerous Beauty (1998)')\nPandas(Index=77719, user_id=271, item_id=582, rating=3, timestamp=885849113, title='Piano, The (1993)')\nPandas(Index=84853, user_id=95, item_id=1116, rating=4, timestamp=888956137, title='Mark of Zorro, The (1940)')\nPandas(Index=83083, user_id=484, item_id=226, rating=4, timestamp=891195390, title='Die Hard 2 (1990)')\nPandas(Index=23879, user_id=92, item_id=273, rating=4, timestamp=875640214, title='Heat (1995)')\nPandas(Index=30039, user_id=417, item_id=178, rating=3, timestamp=879646965, title='12 Angry Men (1957)')\nPandas(Index=6857, user_id=328, item_id=194, rating=3, timestamp=885046976, title='Sting, The (1973)')\nPandas(Index=37295, user_id=447, item_id=484, rating=5, timestamp=878856457, title='Maltese Falcon, The (1941)')\nPandas(Index=78874, user_id=932, item_id=671, rating=3, timestamp=891250915, title='Bride of Frankenstein (1935)')\nPandas(Index=26437, user_id=100, item_id=258, rating=4, timestamp=891374675, title='Contact (1997)')\nPandas(Index=36980, user_id=454, item_id=64, rating=4, timestamp=881959652, title='Shawshank Redemption, The (1994)')\nPandas(Index=25888, user_id=333, item_id=79, rating=3, timestamp=891045496, title='Fugitive, The (1993)')\nPandas(Index=50942, user_id=490, item_id=475, rating=4, timestamp=875427629, title='Trainspotting (1996)')\nPandas(Index=1123, user_id=389, item_id=133, rating=5, timestamp=880086888, title='Gone with the Wind (1939)')\nPandas(Index=89622, user_id=843, item_id=495, rating=3, timestamp=879447170, title='Around the World in 80 Days (1956)')\nPandas(Index=33408, user_id=927, item_id=7, rating=3, timestamp=879177298, title='Twelve Monkeys (1995)')\nPandas(Index=94939, user_id=214, item_id=608, rating=4, timestamp=891544114, title='Spellbound (1945)')\nPandas(Index=32363, user_id=487, item_id=568, rating=4, timestamp=883446322, title='Speed (1994)')\nPandas(Index=68208, user_id=94, item_id=644, rating=5, timestamp=886008390, title='Thin Blue Line, The (1988)')\nPandas(Index=43466, user_id=237, item_id=286, rating=3, timestamp=879376220, title='English Patient, The (1996)')\nPandas(Index=57998, user_id=336, item_id=70, rating=5, timestamp=877757910, title='Four Weddings and a Funeral (1994)')\nPandas(Index=7745, user_id=287, item_id=201, rating=5, timestamp=875334962, title='Evil Dead II (1987)')\nPandas(Index=44087, user_id=271, item_id=62, rating=2, timestamp=885849386, title='Stargate (1994)')\nPandas(Index=21932, user_id=854, item_id=1134, rating=3, timestamp=882812787, title='Get on the Bus (1996)')\nPandas(Index=14022, user_id=276, item_id=518, rating=4, timestamp=888873407, title=\"Miller's Crossing (1990)\")\nPandas(Index=83425, user_id=92, item_id=743, rating=2, timestamp=890251826, title='Crow: City of Angels, The (1996)')\nPandas(Index=22478, user_id=883, item_id=14, rating=3, timestamp=891693675, title='Postino, Il (1994)')\nPandas(Index=2474, user_id=343, item_id=86, rating=5, timestamp=876404836, title='Remains of the Day, The (1993)')\nPandas(Index=85139, user_id=70, item_id=260, rating=2, timestamp=884065247, title='Event Horizon (1997)')\nPandas(Index=3399, user_id=92, item_id=40, rating=3, timestamp=875656164, title='To Wong Foo, Thanks for Everything! Julie Newmar (1995)')\nPandas(Index=22225, user_id=692, item_id=756, rating=2, timestamp=876953681, title='Father of the Bride Part II (1995)')\nPandas(Index=62498, user_id=778, item_id=230, rating=2, timestamp=890804025, title='Star Trek IV: The Voyage Home (1986)')\nPandas(Index=45977, user_id=215, item_id=176, rating=5, timestamp=891435804, title='Aliens (1986)')\nPandas(Index=57456, user_id=332, item_id=717, rating=3, timestamp=887938760, title='Juror, The (1996)')\nPandas(Index=39099, user_id=373, item_id=191, rating=4, timestamp=877102549, title='Amadeus (1984)')\nPandas(Index=68596, user_id=868, item_id=162, rating=3, timestamp=877109505, title='On Golden Pond (1981)')\nPandas(Index=85552, user_id=476, item_id=63, rating=3, timestamp=883365274, title='Santa Clause, The (1994)')\nPandas(Index=7717, user_id=797, item_id=327, rating=2, timestamp=879438992, title='Cop Land (1997)')\nPandas(Index=32336, user_id=647, item_id=568, rating=4, timestamp=876533832, title='Speed (1994)')\nPandas(Index=31349, user_id=117, item_id=214, rating=5, timestamp=881012193, title='Pink Floyd - The Wall (1982)')\nPandas(Index=45740, user_id=738, item_id=71, rating=3, timestamp=875350352, title='Lion King, The (1994)')\nPandas(Index=73482, user_id=335, item_id=355, rating=3, timestamp=891567053, title='Sphere (1998)')\nPandas(Index=19355, user_id=279, item_id=514, rating=4, timestamp=875307210, title='Annie Hall (1977)')\nPandas(Index=59830, user_id=151, item_id=609, rating=4, timestamp=879525075, title='Father of the Bride (1950)')\nPandas(Index=30718, user_id=678, item_id=127, rating=5, timestamp=879544782, title='Godfather, The (1972)')\nPandas(Index=99214, user_id=676, item_id=1483, rating=4, timestamp=892685826, title='Man in the Iron Mask, The (1998)')\nPandas(Index=86896, user_id=339, item_id=170, rating=5, timestamp=891032286, title='Cinema Paradiso (1988)')\nPandas(Index=32802, user_id=864, item_id=401, rating=4, timestamp=888893271, title='Brady Bunch Movie, The (1995)')\nPandas(Index=64776, user_id=13, item_id=736, rating=4, timestamp=882399528, title='Shadowlands (1993)')\nPandas(Index=38324, user_id=860, item_id=204, rating=4, timestamp=885990901, title='Back to the Future (1985)')\nPandas(Index=17772, user_id=533, item_id=132, rating=5, timestamp=879191220, title='Wizard of Oz, The (1939)')\nPandas(Index=89789, user_id=655, item_id=702, rating=2, timestamp=887477262, title='Barcelona (1994)')\nPandas(Index=45530, user_id=642, item_id=186, rating=5, timestamp=885602739, title='Blues Brothers, The (1980)')\nPandas(Index=48452, user_id=181, item_id=407, rating=2, timestamp=878963038, title='Spy Hard (1996)')\nPandas(Index=99148, user_id=405, item_id=1391, rating=1, timestamp=885549789, title='For Ever Mozart (1996)')\nPandas(Index=49991, user_id=94, item_id=210, rating=4, timestamp=886008459, title='Indiana Jones and the Last Crusade (1989)')\nPandas(Index=68558, user_id=655, item_id=162, rating=3, timestamp=888474165, title='On Golden Pond (1981)')\nPandas(Index=53557, user_id=28, item_id=184, rating=4, timestamp=881961671, title='Army of Darkness (1993)')\nPandas(Index=22865, user_id=109, item_id=405, rating=5, timestamp=880564640, title='Mission: Impossible (1996)')\nPandas(Index=54122, user_id=615, item_id=306, rating=4, timestamp=879447556, title='Mrs. Brown (Her Majesty, Mrs. Brown) (1997)')\nPandas(Index=17261, user_id=627, item_id=328, rating=4, timestamp=879529486, title='Conspiracy Theory (1997)')\nPandas(Index=61970, user_id=30, item_id=28, rating=4, timestamp=885941321, title='Apollo 13 (1995)')\nPandas(Index=83193, user_id=854, item_id=846, rating=3, timestamp=882813453, title='To Gillian on Her 37th Birthday (1996)')\nPandas(Index=36919, user_id=746, item_id=64, rating=4, timestamp=885075790, title='Shawshank Redemption, The (1994)')\nPandas(Index=98617, user_id=504, item_id=1439, rating=4, timestamp=887840517, title=\"Jason's Lyric (1994)\")\nPandas(Index=35952, user_id=184, item_id=82, rating=3, timestamp=889909934, title='Jurassic Park (1993)')\nPandas(Index=36858, user_id=773, item_id=64, rating=4, timestamp=888540507, title='Shawshank Redemption, The (1994)')\nPandas(Index=94702, user_id=417, item_id=563, rating=2, timestamp=879649560, title=\"Stephen King's The Langoliers (1995)\")\nPandas(Index=96274, user_id=782, item_id=992, rating=2, timestamp=891499370, title='Head Above Water (1996)')\nPandas(Index=53597, user_id=648, item_id=184, rating=5, timestamp=884368643, title='Army of Darkness (1993)')\nPandas(Index=67092, user_id=943, item_id=831, rating=2, timestamp=875502283, title='Escape from L.A. (1996)')\nPandas(Index=13515, user_id=593, item_id=237, rating=4, timestamp=877728878, title='Jerry Maguire (1996)')\nPandas(Index=62095, user_id=484, item_id=28, rating=5, timestamp=880937193, title='Apollo 13 (1995)')\nPandas(Index=14007, user_id=455, item_id=518, rating=4, timestamp=879111318, title=\"Miller's Crossing (1990)\")\nPandas(Index=48442, user_id=283, item_id=407, rating=3, timestamp=879297867, title='Spy Hard (1996)')\nPandas(Index=123, user_id=287, item_id=50, rating=5, timestamp=875334271, title='Star Wars (1977)')\nPandas(Index=92903, user_id=587, item_id=1265, rating=4, timestamp=892871252, title='Star Maps (1997)')\nPandas(Index=90039, user_id=16, item_id=502, rating=4, timestamp=877723670, title='Bananas (1971)')\nPandas(Index=15714, user_id=560, item_id=498, rating=4, timestamp=879975718, title='African Queen, The (1951)')\nPandas(Index=66060, user_id=756, item_id=122, rating=1, timestamp=874831227, title='Cable Guy, The (1996)')\nPandas(Index=33231, user_id=363, item_id=7, rating=3, timestamp=891495510, title='Twelve Monkeys (1995)')\nPandas(Index=38103, user_id=445, item_id=204, rating=3, timestamp=890988205, title='Back to the Future (1985)')\nPandas(Index=70589, user_id=532, item_id=107, rating=5, timestamp=893119415, title='Moll Flanders (1996)')\nPandas(Index=9375, user_id=378, item_id=181, rating=4, timestamp=880045167, title='Return of the Jedi (1983)')\nPandas(Index=7187, user_id=313, item_id=603, rating=5, timestamp=891013681, title='Rear Window (1954)')\nPandas(Index=70209, user_id=447, item_id=1046, rating=3, timestamp=878856602, title='Malice (1993)')\nPandas(Index=37311, user_id=553, item_id=484, rating=5, timestamp=879949324, title='Maltese Falcon, The (1941)')\nPandas(Index=43940, user_id=339, item_id=640, rating=5, timestamp=891035035, title='Cook the Thief His Wife & Her Lover, The (1989)')\nPandas(Index=82058, user_id=234, item_id=808, rating=2, timestamp=892335707, title='Program, The (1993)')\nPandas(Index=32651, user_id=501, item_id=591, rating=4, timestamp=883348138, title='Primal Fear (1996)')\nPandas(Index=54340, user_id=292, item_id=249, rating=3, timestamp=881104820, title='Austin Powers: International Man of Mystery (1997)')\nPandas(Index=58938, user_id=663, item_id=13, rating=3, timestamp=889492562, title='Mighty Aphrodite (1995)')\nPandas(Index=81742, user_id=496, item_id=469, rating=3, timestamp=876065962, title='Short Cuts (1993)')\nPandas(Index=67564, user_id=773, item_id=393, rating=2, timestamp=888539711, title='Mrs. Doubtfire (1993)')\nPandas(Index=51711, user_id=723, item_id=289, rating=2, timestamp=880498816, title='Evita (1996)')\nPandas(Index=45583, user_id=378, item_id=731, rating=3, timestamp=880056582, title='Corrina, Corrina (1994)')\nPandas(Index=32299, user_id=648, item_id=568, rating=5, timestamp=882212651, title='Speed (1994)')\nPandas(Index=72771, user_id=490, item_id=847, rating=3, timestamp=875427873, title='Looking for Richard (1996)')\nPandas(Index=16406, user_id=280, item_id=294, rating=2, timestamp=891700021, title='Liar Liar (1997)')\nPandas(Index=15739, user_id=881, item_id=498, rating=4, timestamp=876537577, title='African Queen, The (1951)')\nPandas(Index=41004, user_id=373, item_id=649, rating=4, timestamp=877098979, title='Once Upon a Time in America (1984)')\nPandas(Index=19134, user_id=883, item_id=648, rating=4, timestamp=891694249, title='Quiet Man, The (1952)')\nPandas(Index=31149, user_id=666, item_id=69, rating=3, timestamp=880139149, title='Forrest Gump (1994)')\nPandas(Index=37454, user_id=66, item_id=508, rating=4, timestamp=883601387, title='People vs. Larry Flynt, The (1996)')\nPandas(Index=19006, user_id=841, item_id=307, rating=5, timestamp=889067152, title=\"Devil's Advocate, The (1997)\")\nPandas(Index=75496, user_id=99, item_id=676, rating=4, timestamp=885678886, title='Crucible, The (1996)')\nPandas(Index=44516, user_id=881, item_id=291, rating=3, timestamp=876537177, title='Absolute Power (1997)')\nPandas(Index=94226, user_id=711, item_id=1074, rating=3, timestamp=879995754, title='Reality Bites (1994)')\nPandas(Index=86997, user_id=862, item_id=413, rating=4, timestamp=879303952, title='Tales from the Crypt Presents: Bordello of Blood (1996)')\nPandas(Index=22513, user_id=715, item_id=955, rating=4, timestamp=875963596, title='Before Sunrise (1995)')\nPandas(Index=27624, user_id=144, item_id=61, rating=3, timestamp=888106182, title='Three Colors: White (1994)')\nPandas(Index=98641, user_id=279, item_id=804, rating=4, timestamp=875744416, title='Jimmy Hollywood (1994)')\nPandas(Index=86072, user_id=295, item_id=67, rating=4, timestamp=879519042, title='Ace Ventura: Pet Detective (1994)')\nPandas(Index=78599, user_id=798, item_id=571, rating=3, timestamp=875914458, title='Another Stakeout (1993)')\nPandas(Index=43043, user_id=212, item_id=286, rating=4, timestamp=879303468, title='English Patient, The (1996)')\nPandas(Index=55052, user_id=643, item_id=58, rating=4, timestamp=891448062, title='Quiz Show (1994)')\nPandas(Index=53443, user_id=182, item_id=150, rating=3, timestamp=885613294, title='Swingers (1996)')\nPandas(Index=64009, user_id=136, item_id=269, rating=5, timestamp=882693234, title='Full Monty, The (1997)')\nPandas(Index=19739, user_id=194, item_id=195, rating=3, timestamp=879521657, title='Terminator, The (1984)')\nPandas(Index=3326, user_id=843, item_id=222, rating=3, timestamp=879443837, title='Star Trek: First Contact (1996)')\nPandas(Index=98748, user_id=886, item_id=1421, rating=2, timestamp=876034174, title='My Crazy Life (Mi vida loca) (1993)')\nPandas(Index=97486, user_id=655, item_id=1143, rating=3, timestamp=887425458, title='Hard Eight (1996)')\nPandas(Index=84563, user_id=543, item_id=1199, rating=2, timestamp=877542776, title='Cemetery Man (Dellamorte Dellamore) (1994)')\nPandas(Index=96258, user_id=334, item_id=537, rating=4, timestamp=891547995, title='My Own Private Idaho (1991)')\nPandas(Index=99019, user_id=206, item_id=1395, rating=1, timestamp=888180081, title='Hurricane Streets (1998)')\nPandas(Index=52431, user_id=488, item_id=742, rating=4, timestamp=891295023, title='Ransom (1996)')\nPandas(Index=1113, user_id=698, item_id=133, rating=2, timestamp=886367586, title='Gone with the Wind (1939)')\nPandas(Index=47260, user_id=484, item_id=173, rating=5, timestamp=891195036, title='Princess Bride, The (1987)')\nPandas(Index=33384, user_id=932, item_id=7, rating=4, timestamp=891250109, title='Twelve Monkeys (1995)')\nPandas(Index=19431, user_id=221, item_id=789, rating=4, timestamp=875245739, title='Swimming with Sharks (1995)')\nPandas(Index=90998, user_id=341, item_id=887, rating=5, timestamp=890757745, title=\"Eve's Bayou (1997)\")\nPandas(Index=49172, user_id=857, item_id=259, rating=4, timestamp=883432397, title='George of the Jungle (1997)')\nPandas(Index=4573, user_id=247, item_id=1, rating=4, timestamp=893097024, title='Toy Story (1995)')\nPandas(Index=57567, user_id=682, item_id=399, rating=4, timestamp=888522612, title='Three Musketeers, The (1993)')\nPandas(Index=42321, user_id=902, item_id=333, rating=3, timestamp=879463310, title='Game, The (1997)')\nPandas(Index=20941, user_id=383, item_id=135, rating=5, timestamp=891193042, title='2001: A Space Odyssey (1968)')\nPandas(Index=6202, user_id=593, item_id=98, rating=5, timestamp=875661596, title='Silence of the Lambs, The (1991)')\nPandas(Index=88981, user_id=782, item_id=689, rating=3, timestamp=891498720, title='Jackal, The (1997)')\nPandas(Index=99176, user_id=708, item_id=1280, rating=1, timestamp=892718819, title='Gang Related (1997)')\nPandas(Index=25238, user_id=896, item_id=164, rating=4, timestamp=887159321, title='Abyss, The (1989)')\nPandas(Index=27913, user_id=303, item_id=77, rating=4, timestamp=879483978, title='Firm, The (1993)')\nPandas(Index=26232, user_id=33, item_id=258, rating=4, timestamp=891964066, title='Contact (1997)')\nPandas(Index=97064, user_id=294, item_id=1254, rating=3, timestamp=889242661, title=\"Gone Fishin' (1997)\")\nPandas(Index=14894, user_id=458, item_id=25, rating=1, timestamp=886394576, title='Birdcage, The (1996)')\nPandas(Index=61599, user_id=721, item_id=660, rating=5, timestamp=877147616, title='Fried Green Tomatoes (1991)')\nPandas(Index=94705, user_id=291, item_id=563, rating=3, timestamp=874867824, title=\"Stephen King's The Langoliers (1995)\")\nPandas(Index=12527, user_id=798, item_id=1049, rating=3, timestamp=875638150, title='House Arrest (1996)')\nPandas(Index=89752, user_id=709, item_id=841, rating=4, timestamp=879848824, title='Glimmer Man, The (1996)')\nPandas(Index=39106, user_id=48, item_id=191, rating=5, timestamp=879434954, title='Amadeus (1984)')\nPandas(Index=66289, user_id=291, item_id=285, rating=4, timestamp=874833746, title='Secrets & Lies (1996)')\nPandas(Index=55219, user_id=456, item_id=448, rating=3, timestamp=881374586, title='Omen, The (1976)')\nPandas(Index=6217, user_id=840, item_id=98, rating=5, timestamp=891204160, title='Silence of the Lambs, The (1991)')\nPandas(Index=73620, user_id=796, item_id=488, rating=2, timestamp=892662400, title='Sunset Blvd. (1950)')\nPandas(Index=11436, user_id=159, item_id=288, rating=3, timestamp=884026901, title='Scream (1996)')\nPandas(Index=82633, user_id=479, item_id=340, rating=1, timestamp=887064320, title='Boogie Nights (1997)')\nPandas(Index=99312, user_id=845, item_id=1399, rating=3, timestamp=885409493, title='Stranger in the House (1997)')\nPandas(Index=10690, user_id=102, item_id=515, rating=1, timestamp=888801316, title='Boot, Das (1981)')\nPandas(Index=11871, user_id=87, item_id=232, rating=3, timestamp=879876037, title='Young Guns (1988)')\nPandas(Index=84839, user_id=592, item_id=971, rating=4, timestamp=882955978, title='Mediterraneo (1991)')\nPandas(Index=2725, user_id=401, item_id=257, rating=2, timestamp=891032563, title='Men in Black (1997)')\nPandas(Index=4221, user_id=934, item_id=144, rating=4, timestamp=891192087, title='Die Hard (1988)')\nPandas(Index=36378, user_id=194, item_id=198, rating=3, timestamp=879522021, title='Nikita (La Femme Nikita) (1990)')\nPandas(Index=5825, user_id=716, item_id=234, rating=5, timestamp=879795269, title='Jaws (1975)')\nPandas(Index=57025, user_id=638, item_id=22, rating=5, timestamp=876694787, title='Braveheart (1995)')\nPandas(Index=9672, user_id=882, item_id=181, rating=5, timestamp=879867430, title='Return of the Jedi (1983)')\nPandas(Index=369, user_id=514, item_id=50, rating=5, timestamp=875462466, title='Star Wars (1977)')\nPandas(Index=8427, user_id=300, item_id=100, rating=3, timestamp=875650267, title='Fargo (1996)')\nPandas(Index=20138, user_id=897, item_id=200, rating=5, timestamp=879991434, title='Shining, The (1980)')\nPandas(Index=51027, user_id=458, item_id=475, rating=4, timestamp=886394729, title='Trainspotting (1996)')\nPandas(Index=32121, user_id=249, item_id=318, rating=5, timestamp=879572256, title=\"Schindler's List (1993)\")\nPandas(Index=22499, user_id=334, item_id=955, rating=1, timestamp=891547563, title='Before Sunrise (1995)')\nPandas(Index=19617, user_id=387, item_id=317, rating=4, timestamp=886483906, title='In the Name of the Father (1993)')\n"
    }
   ],
   "source": [
    "#Create two user-item matrices, one for training and another for testing\n",
    "train_data_matrix = np.zeros((n_users, n_items))\n",
    "\n",
    "for line in train_data.itertuples():\n",
    "    # line[1] = user_id, line[2] = item id, line[3] = rating \n",
    "    train_data_matrix[line[1]-1, line[2]-1] = line[3]  \n",
    "\n",
    "test_data_matrix = np.zeros((n_users, n_items))\n",
    "\n",
    "for line in test_data.itertuples():\n",
    "    test_data_matrix[line[1]-1, line[2]-1] = line[3]"
   ]
  },
  {
   "cell_type": "markdown",
   "metadata": {},
   "source": [
    "You can use the [pairwise_distances](http://scikit-learn.org/stable/modules/generated/sklearn.metrics.pairwise.pairwise_distances.html) function from sklearn to calculate the cosine similarity. Note, the output will range from 0 to 1 since the ratings are all positive."
   ]
  },
  {
   "cell_type": "code",
   "execution_count": 29,
   "metadata": {
    "collapsed": false,
    "jupyter": {
     "outputs_hidden": false
    }
   },
   "outputs": [],
   "source": [
    "from sklearn.metrics.pairwise import pairwise_distances\n",
    "user_similarity = pairwise_distances(train_data_matrix, metric='cosine')\n",
    "item_similarity = pairwise_distances(train_data_matrix.T, metric='cosine')"
   ]
  },
  {
   "cell_type": "markdown",
   "metadata": {},
   "source": [
    "Next step is to make predictions. You have already created similarity matrices: `user_similarity` and `item_similarity` and therefore you can make a prediction by applying following formula for user-based CF:\n",
    "\n",
    "<img class=\"aligncenter size-thumbnail img-responsive\" src=\"https://latex.codecogs.com/gif.latex?\\hat{x}_{k,m}&space;=&space;\\bar{x}_{k}&space;&plus;&space;\\frac{\\sum\\limits_{u_a}&space;sim_u(u_k,&space;u_a)&space;(x_{a,m}&space;-&space;\\bar{x_{u_a}})}{\\sum\\limits_{u_a}|sim_u(u_k,&space;u_a)|}\"/>\n",
    "\n",
    "You can look at the similarity between users *k* and *a* as weights that are multiplied by the ratings of a similar user *a* (corrected for the average rating of that user). You will need to normalize it so that the ratings stay between 1 and 5 and, as a final step, sum the average ratings for the user that you are trying to predict. \n",
    "\n",
    "The idea here is that some users may tend always to give high or low ratings to all movies. The relative difference in the ratings that these users give is more important than the absolute values. To give an example: suppose, user *k* gives 4 stars to his favourite movies and 3 stars to all other good movies. Suppose now that another user *t* rates movies that he/she likes with 5 stars, and the movies he/she fell asleep over with 3 stars. These two users could have a very similar taste but treat the rating system differently. \n",
    "\n",
    "When making a prediction for item-based CF you don't need to correct for users average rating since query user itself is used to do predictions.\n",
    "\n",
    "<img class=\"aligncenter size-thumbnail img-responsive\" src=\"https://latex.codecogs.com/gif.latex?\\hat{x}_{k,m}&space;=&space;\\frac{\\sum\\limits_{i_b}&space;sim_i(i_m,&space;i_b)&space;(x_{k,b})&space;}{\\sum\\limits_{i_b}|sim_i(i_m,&space;i_b)|}\"/>"
   ]
  },
  {
   "cell_type": "code",
   "execution_count": 30,
   "metadata": {
    "collapsed": true,
    "jupyter": {
     "outputs_hidden": true
    }
   },
   "outputs": [],
   "source": [
    "def predict(ratings, similarity, type='user'):\n",
    "    if type == 'user':\n",
    "        mean_user_rating = ratings.mean(axis=1)\n",
    "        #You use np.newaxis so that mean_user_rating has same format as ratings\n",
    "        ratings_diff = (ratings - mean_user_rating[:, np.newaxis]) \n",
    "        pred = mean_user_rating[:, np.newaxis] + similarity.dot(ratings_diff) / np.array([np.abs(similarity).sum(axis=1)]).T\n",
    "    elif type == 'item':\n",
    "        pred = ratings.dot(similarity) / np.array([np.abs(similarity).sum(axis=1)])     \n",
    "    return pred"
   ]
  },
  {
   "cell_type": "code",
   "execution_count": 31,
   "metadata": {
    "collapsed": false,
    "jupyter": {
     "outputs_hidden": false
    }
   },
   "outputs": [],
   "source": [
    "item_prediction = predict(train_data_matrix, item_similarity, type='item')\n",
    "user_prediction = predict(train_data_matrix, user_similarity, type='user')"
   ]
  },
  {
   "cell_type": "markdown",
   "metadata": {},
   "source": [
    "### Evaluation\n",
    "There are many evaluation metrics but one of the most popular metric used to evaluate accuracy of predicted ratings is *Root Mean Squared Error (RMSE)*. \n",
    "<img src=\"https://latex.codecogs.com/gif.latex?RMSE&space;=\\sqrt{\\frac{1}{N}&space;\\sum&space;(x_i&space;-\\hat{x_i})^2}\" title=\"RMSE =\\sqrt{\\frac{1}{N} \\sum (x_i -\\hat{x_i})^2}\" />\n",
    "\n",
    "You can use the [mean_square_error](http://scikit-learn.org/stable/modules/generated/sklearn.metrics.mean_squared_error.html) (MSE) function from `sklearn`, where the RMSE is just the square root of MSE. To read more about different evaluation metrics you can take a look at [this article](http://research.microsoft.com/pubs/115396/EvaluationMetrics.TR.pdf). "
   ]
  },
  {
   "cell_type": "markdown",
   "metadata": {},
   "source": [
    "Since you only want to consider predicted ratings that are in the test dataset, you filter out all other elements in the prediction matrix with `prediction[ground_truth.nonzero()]`. "
   ]
  },
  {
   "cell_type": "code",
   "execution_count": 32,
   "metadata": {
    "collapsed": true,
    "jupyter": {
     "outputs_hidden": true
    }
   },
   "outputs": [],
   "source": [
    "from sklearn.metrics import mean_squared_error\n",
    "from math import sqrt\n",
    "def rmse(prediction, ground_truth):\n",
    "    prediction = prediction[ground_truth.nonzero()].flatten() \n",
    "    ground_truth = ground_truth[ground_truth.nonzero()].flatten()\n",
    "    return sqrt(mean_squared_error(prediction, ground_truth))"
   ]
  },
  {
   "cell_type": "code",
   "execution_count": 33,
   "metadata": {
    "collapsed": false,
    "jupyter": {
     "outputs_hidden": false
    },
    "scrolled": true
   },
   "outputs": [
    {
     "name": "stdout",
     "output_type": "stream",
     "text": [
      "User-based CF RMSE: 3.135451660158989\n",
      "Item-based CF RMSE: 3.4593766647252515\n"
     ]
    }
   ],
   "source": [
    "print('User-based CF RMSE: ' + str(rmse(user_prediction, test_data_matrix)))\n",
    "print('Item-based CF RMSE: ' + str(rmse(item_prediction, test_data_matrix)))"
   ]
  },
  {
   "cell_type": "markdown",
   "metadata": {},
   "source": [
    "Memory-based algorithms are easy to implement and produce reasonable prediction quality. \n",
    "The drawback of memory-based CF is that it doesn't scale to real-world scenarios and doesn't address the well-known cold-start problem, that is when new user or new item enters the system. Model-based CF methods are scalable and can deal with higher sparsity level than memory-based models, but also suffer when new users or items that don't have any ratings enter the system. I would like to thank Ethan Rosenthal for his [post](http://blog.ethanrosenthal.com/2015/11/02/intro-to-collaborative-filtering/) about Memory-Based Collaborative Filtering. "
   ]
  },
  {
   "cell_type": "markdown",
   "metadata": {},
   "source": [
    "# Model-based Collaborative Filtering\n",
    "\n",
    "Model-based Collaborative Filtering is based on **matrix factorization (MF)** which has received greater exposure, mainly as an unsupervised learning method for latent variable decomposition and dimensionality reduction. Matrix factorization is widely used for recommender systems where it can deal better with scalability and sparsity than Memory-based CF. The goal of MF is to learn the latent preferences of users and the latent attributes of items from known ratings (learn features that describe the characteristics of ratings) to then predict the unknown ratings through the dot product of the latent features of users and items. \n",
    "When you have a very sparse matrix, with a lot of dimensions, by doing matrix factorization you can restructure the  user-item matrix into low-rank structure, and you can represent the matrix by the multiplication of two low-rank matrices, where the rows contain the latent vector. You fit this matrix to approximate your original matrix, as closely as possible, by multiplying the low-rank matrices together, which fills in the entries missing in the original matrix.\n",
    "\n",
    "Let's calculate the sparsity level of MovieLens dataset:"
   ]
  },
  {
   "cell_type": "code",
   "execution_count": 34,
   "metadata": {
    "collapsed": false,
    "jupyter": {
     "outputs_hidden": false
    }
   },
   "outputs": [
    {
     "name": "stdout",
     "output_type": "stream",
     "text": [
      "The sparsity level of MovieLens100K is 93.7%\n"
     ]
    }
   ],
   "source": [
    "sparsity=round(1.0-len(df)/float(n_users*n_items),3)\n",
    "print('The sparsity level of MovieLens100K is ' +  str(sparsity*100) + '%')"
   ]
  },
  {
   "cell_type": "markdown",
   "metadata": {},
   "source": [
    "To give an example of the learned latent preferences of the users and items: let's say for the MovieLens dataset you have the following information: _(user id, age, location, gender, movie id, director, actor, language, year, rating)_. By applying matrix factorization the model learns that important user features are _age group (under 10, 10-18, 18-30, 30-90)_, _location_ and _gender_, and for movie features it learns that _decade_, _director_ and _actor_ are most important. Now if you look into the information you have stored, there is no such feature as the _decade_, but the model can learn on its own. The important aspect is that the CF model only uses data (user_id, movie_id, rating) to learn the latent features. If there is little data available model-based CF model will predict poorly, since it will be more difficult to learn the latent features. \n",
    "\n",
    "Models that use both ratings and content features are called **Hybrid Recommender Systems** where both Collaborative Filtering and Content-based Models are combined. Hybrid recommender systems usually show higher accuracy than Collaborative Filtering or Content-based Models on their own: they are capable to address the cold-start problem better since if you don't have any ratings for a user or an item you could use the metadata from the user or item to make a prediction. "
   ]
  },
  {
   "cell_type": "markdown",
   "metadata": {},
   "source": [
    "### SVD\n",
    "A well-known matrix factorization method is **Singular value decomposition (SVD)**. Collaborative Filtering can be formulated by approximating a matrix `X` by using singular value decomposition. The winning team at the Netflix Prize competition used SVD matrix factorization models to produce product recommendations, for more information I recommend to read articles: [Netflix Recommendations: Beyond the 5 stars](http://techblog.netflix.com/2012/04/netflix-recommendations-beyond-5-stars.html) and [Netflix Prize and SVD](http://buzzard.ups.edu/courses/2014spring/420projects/math420-UPS-spring-2014-gower-netflix-SVD.pdf).\n",
    "The general equation can be expressed as follows:\n",
    "<img src=\"https://latex.codecogs.com/gif.latex?X=USV^T\" title=\"X=USV^T\" />\n",
    "\n",
    "\n",
    "Given `m x n` matrix `X`:\n",
    "* *`U`* is an *`(m x r)`* orthogonal matrix\n",
    "* *`S`* is an *`(r x r)`* diagonal matrix with non-negative real numbers on the diagonal\n",
    "* *V^T* is an *`(r x n)`* orthogonal matrix\n",
    "\n",
    "Elements on the diagnoal in `S` are known as *singular values of `X`*. \n",
    "\n",
    "\n",
    "Matrix *`X`* can be factorized to *`U`*, *`S`* and *`V`*. The *`U`* matrix represents the feature vectors corresponding to the users in the hidden feature space and the *`V`* matrix represents the feature vectors corresponding to the items in the hidden feature space.\n",
    "<img class=\"aligncenter size-thumbnail img-responsive\" style=\"max-width:100%; width: 50%; max-width: none\" src=\"http://s33.postimg.org/kwgsb5g1b/BLOG_CCA_5.png\"/>\n",
    "\n",
    "Now you can make a prediction by taking dot product of *`U`*, *`S`* and *`V^T`*.\n",
    "\n",
    "<img class=\"aligncenter size-thumbnail img-responsive\" style=\"max-width:100%; width: 50%; max-width: none\" src=\"http://s33.postimg.org/ch9lcm6pb/BLOG_CCA_4.png\"/>"
   ]
  },
  {
   "cell_type": "code",
   "execution_count": 35,
   "metadata": {
    "collapsed": false,
    "jupyter": {
     "outputs_hidden": false
    }
   },
   "outputs": [
    {
     "name": "stdout",
     "output_type": "stream",
     "text": [
      "User-based CF MSE: 2.727093975231784\n"
     ]
    }
   ],
   "source": [
    "import scipy.sparse as sp\n",
    "from scipy.sparse.linalg import svds\n",
    "\n",
    "#get SVD components from train matrix. Choose k.\n",
    "u, s, vt = svds(train_data_matrix, k = 20)\n",
    "s_diag_matrix=np.diag(s)\n",
    "X_pred = np.dot(np.dot(u, s_diag_matrix), vt)\n",
    "print('User-based CF MSE: ' + str(rmse(X_pred, test_data_matrix)))"
   ]
  },
  {
   "cell_type": "markdown",
   "metadata": {},
   "source": [
    "Carelessly addressing only the relatively few known entries is highly prone to overfitting. SVD can be very slow and computationally expensive. More recent work minimizes the squared error by applying alternating least square or stochastic gradient descent and uses regularization terms to prevent overfitting. Alternating least square and stochastic gradient descent methods for CF will be covered in the next tutorials.\n"
   ]
  },
  {
   "cell_type": "markdown",
   "metadata": {},
   "source": [
    "Review:\n",
    "\n",
    "* We have covered how to implement simple **Collaborative Filtering** methods, both memory-based CF and model-based CF.\n",
    "* **Memory-based models** are based on similarity between items or users, where we use cosine-similarity.\n",
    "* **Model-based CF** is based on matrix factorization where we use SVD to factorize the matrix.\n",
    "* Building recommender systems that perform well in cold-start scenarios (where little data is available on new users and items) remains a challenge. The standard collaborative filtering method performs poorly is such settings. "
   ]
  },
  {
   "cell_type": "markdown",
   "metadata": {},
   "source": [
    "## Looking for more?\n",
    "\n",
    "If you want to tackle your own recommendation system analysis, check out these data sets. Note: The files are quite large in most cases, not all the links may stay up to host the data, but the majority of them still work. Or just Google for your own data set!\n",
    "\n",
    "**Movies Recommendation:**\n",
    "\n",
    "MovieLens - Movie Recommendation Data Sets http://www.grouplens.org/node/73\n",
    "\n",
    "Yahoo! - Movie, Music, and Images Ratings Data Sets http://webscope.sandbox.yahoo.com/catalog.php?datatype=r\n",
    "\n",
    "Jester - Movie Ratings Data Sets (Collaborative Filtering Dataset) http://www.ieor.berkeley.edu/~goldberg/jester-data/\n",
    "\n",
    "Cornell University - Movie-review data for use in sentiment-analysis experiments http://www.cs.cornell.edu/people/pabo/movie-review-data/\n",
    "\n",
    "**Music Recommendation:**\n",
    "\n",
    "Last.fm - Music Recommendation Data Sets http://www.dtic.upf.edu/~ocelma/MusicRecommendationDataset/index.html\n",
    "\n",
    "Yahoo! - Movie, Music, and Images Ratings Data Sets http://webscope.sandbox.yahoo.com/catalog.php?datatype=r\n",
    "\n",
    "Audioscrobbler - Music Recommendation Data Sets http://www-etud.iro.umontreal.ca/~bergstrj/audioscrobbler_data.html\n",
    "\n",
    "Amazon - Audio CD recommendations http://131.193.40.52/data/\n",
    "\n",
    "**Books Recommendation:**\n",
    "\n",
    "Institut für Informatik, Universität Freiburg - Book Ratings Data Sets http://www.informatik.uni-freiburg.de/~cziegler/BX/\n",
    "Food Recommendation:\n",
    "\n",
    "Chicago Entree - Food Ratings Data Sets http://archive.ics.uci.edu/ml/datasets/Entree+Chicago+Recommendation+Data\n",
    "Merchandise Recommendation:\n",
    "\n",
    "**Healthcare Recommendation:**\n",
    "\n",
    "Nursing Home - Provider Ratings Data Set http://data.medicare.gov/dataset/Nursing-Home-Compare-Provider-Ratings/mufm-vy8d\n",
    "\n",
    "Hospital Ratings - Survey of Patients Hospital Experiences http://data.medicare.gov/dataset/Survey-of-Patients-Hospital-Experiences-HCAHPS-/rj76-22dk\n",
    "\n",
    "**Dating Recommendation:**\n",
    "\n",
    "www.libimseti.cz - Dating website recommendation (collaborative filtering) http://www.occamslab.com/petricek/data/\n",
    "Scholarly Paper Recommendation:\n",
    "\n",
    "National University of Singapore - Scholarly Paper Recommendation http://www.comp.nus.edu.sg/~sugiyama/SchPaperRecData.html\n",
    "\n",
    "# Great Job!"
   ]
  },
  {
   "cell_type": "code",
   "execution_count": null,
   "metadata": {
    "collapsed": true,
    "jupyter": {
     "outputs_hidden": true
    }
   },
   "outputs": [],
   "source": []
  }
 ],
 "metadata": {
  "kernelspec": {
   "display_name": "Python 3",
   "language": "python",
   "name": "python3"
  },
  "language_info": {
   "codemirror_mode": {
    "name": "ipython",
    "version": 3
   },
   "file_extension": ".py",
   "mimetype": "text/x-python",
   "name": "python",
   "nbconvert_exporter": "python",
   "pygments_lexer": "ipython3",
   "version": "3.7.7-final"
  }
 },
 "nbformat": 4,
 "nbformat_minor": 4
}